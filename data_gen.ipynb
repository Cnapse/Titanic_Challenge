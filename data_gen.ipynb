{
 "cells": [
  {
   "cell_type": "code",
   "execution_count": 1,
   "metadata": {},
   "outputs": [],
   "source": [
    "import os\n",
    "import tensorflow as tf\n",
    "import numpy as np\n",
    "import pandas as pd\n",
    "from sklearn.model_selection import train_test_split\n",
    "from sklearn.preprocessing import LabelEncoder as LE"
   ]
  },
  {
   "cell_type": "code",
   "execution_count": 2,
   "metadata": {},
   "outputs": [],
   "source": [
    "def train_data_prep(csv_file):\n",
    "    train_data = pd.read_csv(os.path.abspath(csv_file))\n",
    "    train_data = train_data.set_index('PassengerId')\n",
    "    train_data = train_data.drop(['Cabin','Name','Ticket'],axis = 1)\n",
    "    train_data['Age'] = train_data['Age'].fillna(value = train_data['Age'].mean())\n",
    "    train_data['Fare'] = train_data['Age'].fillna(value = train_data['Fare'].mean())\n",
    "    train_data = train_data.dropna(axis=0)\n",
    "    le = LE()\n",
    "    train_data['Sex'] = le.fit_transform(train_data['Sex'])\n",
    "    train_data['Embarked'] = le.fit_transform(train_data['Embarked'])\n",
    "    train_data['Age'] = (tf.keras.utils.normalize(np.array(train_data['Age']),order=2)).reshape(-1,1)\n",
    "    train_data['Fare'] = (tf.keras.utils.normalize(np.array(train_data['Fare']),order=2)).reshape(-1,1)\n",
    "#     train_data['Pclass'] = (tf.keras.utils.normalize(np.array(train_data['Pclass']),order=2)).reshape(-1,1)\n",
    "#     train_data['Sex'] = (tf.keras.utils.normalize(np.array(train_data['Sex']),order=2)).reshape(-1,1)\n",
    "#     train_data['Embarked'] = (tf.keras.utils.normalize(np.array(train_data['Embarked']),order=2)).reshape(-1,1)\n",
    "#     train_data['Parch'] = (tf.keras.utils.normalize(np.array(train_data['Parch']),order=2)).reshape(-1,1)\n",
    "    X = train_data.drop('Survived',axis = 1)\n",
    "    y = train_data['Survived']\n",
    "    return(train_test_split(X, y, test_size=0.10, random_state=42))"
   ]
  },
  {
   "cell_type": "code",
   "execution_count": 3,
   "metadata": {},
   "outputs": [],
   "source": [
    "def test_data_prep(csv_file):\n",
    "    train_data = pd.read_csv(os.path.abspath(csv_file))\n",
    "    train_data = train_data.set_index('PassengerId')\n",
    "    train_data = train_data.drop(['Cabin','Name','Ticket'],axis = 1)\n",
    "    train_data['Age'] = train_data['Age'].fillna(value = train_data['Age'].mean())\n",
    "    train_data['Fare'] = train_data['Age'].fillna(value = train_data['Fare'].mean())\n",
    "    train_data = train_data.dropna(axis=0)\n",
    "    le = LE()\n",
    "    train_data['Sex'] = le.fit_transform(train_data['Sex'])\n",
    "    train_data['Embarked'] = le.fit_transform(train_data['Embarked'])\n",
    "    train_data['Age'] = (tf.keras.utils.normalize(np.array(train_data['Age']),order=2)).reshape(-1,1)\n",
    "    train_data['Fare'] = (tf.keras.utils.normalize(np.array(train_data['Fare']),order=2)).reshape(-1,1)\n",
    "    return(train_data)"
   ]
  }
 ],
 "metadata": {
  "kernelspec": {
   "display_name": "Python 3",
   "language": "python",
   "name": "python3"
  },
  "language_info": {
   "codemirror_mode": {
    "name": "ipython",
    "version": 3
   },
   "file_extension": ".py",
   "mimetype": "text/x-python",
   "name": "python",
   "nbconvert_exporter": "python",
   "pygments_lexer": "ipython3",
   "version": "3.7.3"
  }
 },
 "nbformat": 4,
 "nbformat_minor": 2
}
