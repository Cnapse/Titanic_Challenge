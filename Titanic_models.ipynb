{
 "cells": [
  {
   "cell_type": "code",
   "execution_count": 26,
   "metadata": {},
   "outputs": [],
   "source": [
    "from data_prep import *\n",
    "import tensorflow as tf"
   ]
  },
  {
   "cell_type": "code",
   "execution_count": 27,
   "metadata": {},
   "outputs": [
    {
     "data": {
      "text/html": [
       "<div>\n",
       "<style scoped>\n",
       "    .dataframe tbody tr th:only-of-type {\n",
       "        vertical-align: middle;\n",
       "    }\n",
       "\n",
       "    .dataframe tbody tr th {\n",
       "        vertical-align: top;\n",
       "    }\n",
       "\n",
       "    .dataframe thead th {\n",
       "        text-align: right;\n",
       "    }\n",
       "</style>\n",
       "<table border=\"1\" class=\"dataframe\">\n",
       "  <thead>\n",
       "    <tr style=\"text-align: right;\">\n",
       "      <th></th>\n",
       "      <th>Pclass</th>\n",
       "      <th>Sex</th>\n",
       "      <th>Age</th>\n",
       "      <th>SibSp</th>\n",
       "      <th>Parch</th>\n",
       "      <th>Fare</th>\n",
       "      <th>Embarked</th>\n",
       "    </tr>\n",
       "    <tr>\n",
       "      <th>PassengerId</th>\n",
       "      <th></th>\n",
       "      <th></th>\n",
       "      <th></th>\n",
       "      <th></th>\n",
       "      <th></th>\n",
       "      <th></th>\n",
       "      <th></th>\n",
       "    </tr>\n",
       "  </thead>\n",
       "  <tbody>\n",
       "    <tr>\n",
       "      <th>78</th>\n",
       "      <td>3</td>\n",
       "      <td>1</td>\n",
       "      <td>0.030779</td>\n",
       "      <td>0</td>\n",
       "      <td>0</td>\n",
       "      <td>0.004565</td>\n",
       "      <td>2</td>\n",
       "    </tr>\n",
       "    <tr>\n",
       "      <th>745</th>\n",
       "      <td>3</td>\n",
       "      <td>1</td>\n",
       "      <td>0.032127</td>\n",
       "      <td>0</td>\n",
       "      <td>0</td>\n",
       "      <td>0.004495</td>\n",
       "      <td>2</td>\n",
       "    </tr>\n",
       "  </tbody>\n",
       "</table>\n",
       "</div>"
      ],
      "text/plain": [
       "             Pclass  Sex       Age  SibSp  Parch      Fare  Embarked\n",
       "PassengerId                                                         \n",
       "78                3    1  0.030779      0      0  0.004565         2\n",
       "745               3    1  0.032127      0      0  0.004495         2"
      ]
     },
     "execution_count": 27,
     "metadata": {},
     "output_type": "execute_result"
    }
   ],
   "source": [
    "X_train[0:2]"
   ]
  },
  {
   "cell_type": "code",
   "execution_count": 61,
   "metadata": {},
   "outputs": [
    {
     "data": {
      "text/plain": [
       "Int64Index([ 78, 745, 475, 213, 720, 827, 112, 336, 813, 870,\n",
       "            ...\n",
       "            123, 616,  21, 702,  73, 108, 272, 863, 437, 104],\n",
       "           dtype='int64', name='PassengerId', length=800)"
      ]
     },
     "execution_count": 61,
     "metadata": {},
     "output_type": "execute_result"
    }
   ],
   "source": [
    "X_train.index"
   ]
  },
  {
   "cell_type": "code",
   "execution_count": 28,
   "metadata": {},
   "outputs": [
    {
     "data": {
      "text/plain": [
       "array([[3.        , 1.        , 0.03077895, 0.        , 0.        ,\n",
       "        0.00456542, 2.        ],\n",
       "       [3.        , 1.        , 0.03212713, 0.        , 0.        ,\n",
       "        0.00449453, 2.        ]])"
      ]
     },
     "execution_count": 28,
     "metadata": {},
     "output_type": "execute_result"
    }
   ],
   "source": [
    "np.array(X_train[0:2])"
   ]
  },
  {
   "cell_type": "code",
   "execution_count": 29,
   "metadata": {},
   "outputs": [
    {
     "data": {
      "text/plain": [
       "array([0, 1])"
      ]
     },
     "execution_count": 29,
     "metadata": {},
     "output_type": "execute_result"
    }
   ],
   "source": [
    "np.array(y_train[0:2])"
   ]
  },
  {
   "cell_type": "code",
   "execution_count": 42,
   "metadata": {},
   "outputs": [],
   "source": [
    "model = tf.keras.models.Sequential()\n",
    "model.add(tf.keras.layers.Flatten())\n",
    "model.add(tf.keras.layers.Dense(100, activation = tf.nn.relu))\n",
    "model.add(tf.keras.layers.Dense(30, activation = tf.nn.relu))\n",
    "model.add(tf.keras.layers.Dense(2,activation=tf.nn.softmax))\n",
    "model.compile(optimizer='adam',loss='sparse_categorical_crossentropy',metrics=['accuracy'])"
   ]
  },
  {
   "cell_type": "code",
   "execution_count": 43,
   "metadata": {},
   "outputs": [
    {
     "name": "stdout",
     "output_type": "stream",
     "text": [
      "Epoch 1/100\n",
      "800/800 [==============================] - 0s 281us/sample - loss: 0.6683 - acc: 0.5562\n",
      "Epoch 2/100\n",
      "800/800 [==============================] - 0s 49us/sample - loss: 0.5811 - acc: 0.6600\n",
      "Epoch 3/100\n",
      "800/800 [==============================] - 0s 50us/sample - loss: 0.5490 - acc: 0.7412\n",
      "Epoch 4/100\n",
      "800/800 [==============================] - 0s 49us/sample - loss: 0.5188 - acc: 0.7812\n",
      "Epoch 5/100\n",
      "800/800 [==============================] - 0s 48us/sample - loss: 0.4998 - acc: 0.7950\n",
      "Epoch 6/100\n",
      "800/800 [==============================] - 0s 49us/sample - loss: 0.4844 - acc: 0.7975\n",
      "Epoch 7/100\n",
      "800/800 [==============================] - 0s 51us/sample - loss: 0.4765 - acc: 0.7987\n",
      "Epoch 8/100\n",
      "800/800 [==============================] - 0s 47us/sample - loss: 0.4663 - acc: 0.8025\n",
      "Epoch 9/100\n",
      "800/800 [==============================] - 0s 50us/sample - loss: 0.4584 - acc: 0.8050\n",
      "Epoch 10/100\n",
      "800/800 [==============================] - 0s 46us/sample - loss: 0.4532 - acc: 0.8025\n",
      "Epoch 11/100\n",
      "800/800 [==============================] - 0s 43us/sample - loss: 0.4509 - acc: 0.8075\n",
      "Epoch 12/100\n",
      "800/800 [==============================] - 0s 48us/sample - loss: 0.4481 - acc: 0.8087\n",
      "Epoch 13/100\n",
      "800/800 [==============================] - 0s 46us/sample - loss: 0.4443 - acc: 0.8037\n",
      "Epoch 14/100\n",
      "800/800 [==============================] - 0s 46us/sample - loss: 0.4398 - acc: 0.8062\n",
      "Epoch 15/100\n",
      "800/800 [==============================] - 0s 46us/sample - loss: 0.4369 - acc: 0.8087\n",
      "Epoch 16/100\n",
      "800/800 [==============================] - 0s 47us/sample - loss: 0.4338 - acc: 0.8125\n",
      "Epoch 17/100\n",
      "800/800 [==============================] - 0s 45us/sample - loss: 0.4338 - acc: 0.8138\n",
      "Epoch 18/100\n",
      "800/800 [==============================] - 0s 49us/sample - loss: 0.4420 - acc: 0.7900\n",
      "Epoch 19/100\n",
      "800/800 [==============================] - 0s 50us/sample - loss: 0.4348 - acc: 0.8087\n",
      "Epoch 20/100\n",
      "800/800 [==============================] - 0s 48us/sample - loss: 0.4293 - acc: 0.8213\n",
      "Epoch 21/100\n",
      "800/800 [==============================] - 0s 46us/sample - loss: 0.4246 - acc: 0.8100\n",
      "Epoch 22/100\n",
      "800/800 [==============================] - 0s 49us/sample - loss: 0.4244 - acc: 0.8150\n",
      "Epoch 23/100\n",
      "800/800 [==============================] - 0s 47us/sample - loss: 0.4251 - acc: 0.8200\n",
      "Epoch 24/100\n",
      "800/800 [==============================] - 0s 49us/sample - loss: 0.4229 - acc: 0.8188\n",
      "Epoch 25/100\n",
      "800/800 [==============================] - 0s 50us/sample - loss: 0.4218 - acc: 0.8213\n",
      "Epoch 26/100\n",
      "800/800 [==============================] - 0s 47us/sample - loss: 0.4198 - acc: 0.8213\n",
      "Epoch 27/100\n",
      "800/800 [==============================] - 0s 49us/sample - loss: 0.4232 - acc: 0.8125\n",
      "Epoch 28/100\n",
      "800/800 [==============================] - 0s 44us/sample - loss: 0.4217 - acc: 0.8125\n",
      "Epoch 29/100\n",
      "800/800 [==============================] - 0s 52us/sample - loss: 0.4176 - acc: 0.8175\n",
      "Epoch 30/100\n",
      "800/800 [==============================] - 0s 49us/sample - loss: 0.4177 - acc: 0.8163\n",
      "Epoch 31/100\n",
      "800/800 [==============================] - 0s 51us/sample - loss: 0.4210 - acc: 0.8188\n",
      "Epoch 32/100\n",
      "800/800 [==============================] - 0s 48us/sample - loss: 0.4168 - acc: 0.8250\n",
      "Epoch 33/100\n",
      "800/800 [==============================] - 0s 50us/sample - loss: 0.4177 - acc: 0.8250\n",
      "Epoch 34/100\n",
      "800/800 [==============================] - 0s 48us/sample - loss: 0.4152 - acc: 0.8163\n",
      "Epoch 35/100\n",
      "800/800 [==============================] - 0s 45us/sample - loss: 0.4138 - acc: 0.8225\n",
      "Epoch 36/100\n",
      "800/800 [==============================] - 0s 45us/sample - loss: 0.4139 - acc: 0.8225\n",
      "Epoch 37/100\n",
      "800/800 [==============================] - 0s 46us/sample - loss: 0.4152 - acc: 0.8213\n",
      "Epoch 38/100\n",
      "800/800 [==============================] - 0s 47us/sample - loss: 0.4171 - acc: 0.8275\n",
      "Epoch 39/100\n",
      "800/800 [==============================] - 0s 44us/sample - loss: 0.4111 - acc: 0.8225\n",
      "Epoch 40/100\n",
      "800/800 [==============================] - 0s 43us/sample - loss: 0.4130 - acc: 0.8238\n",
      "Epoch 41/100\n",
      "800/800 [==============================] - 0s 48us/sample - loss: 0.4103 - acc: 0.8238\n",
      "Epoch 42/100\n",
      "800/800 [==============================] - 0s 50us/sample - loss: 0.4116 - acc: 0.8250\n",
      "Epoch 43/100\n",
      "800/800 [==============================] - 0s 49us/sample - loss: 0.4132 - acc: 0.8175\n",
      "Epoch 44/100\n",
      "800/800 [==============================] - 0s 49us/sample - loss: 0.4132 - acc: 0.8313\n",
      "Epoch 45/100\n",
      "800/800 [==============================] - 0s 48us/sample - loss: 0.4104 - acc: 0.8213\n",
      "Epoch 46/100\n",
      "800/800 [==============================] - 0s 48us/sample - loss: 0.4109 - acc: 0.8275\n",
      "Epoch 47/100\n",
      "800/800 [==============================] - 0s 54us/sample - loss: 0.4089 - acc: 0.8263\n",
      "Epoch 48/100\n",
      "800/800 [==============================] - 0s 53us/sample - loss: 0.4101 - acc: 0.8288\n",
      "Epoch 49/100\n",
      "800/800 [==============================] - 0s 53us/sample - loss: 0.4070 - acc: 0.8225\n",
      "Epoch 50/100\n",
      "800/800 [==============================] - 0s 53us/sample - loss: 0.4088 - acc: 0.8263\n",
      "Epoch 51/100\n",
      "800/800 [==============================] - 0s 50us/sample - loss: 0.4045 - acc: 0.8363\n",
      "Epoch 52/100\n",
      "800/800 [==============================] - 0s 52us/sample - loss: 0.4066 - acc: 0.8300\n",
      "Epoch 53/100\n",
      "800/800 [==============================] - 0s 47us/sample - loss: 0.4050 - acc: 0.8313\n",
      "Epoch 54/100\n",
      "800/800 [==============================] - 0s 47us/sample - loss: 0.4053 - acc: 0.8325\n",
      "Epoch 55/100\n",
      "800/800 [==============================] - 0s 46us/sample - loss: 0.4061 - acc: 0.8313\n",
      "Epoch 56/100\n",
      "800/800 [==============================] - 0s 45us/sample - loss: 0.4083 - acc: 0.8225\n",
      "Epoch 57/100\n",
      "800/800 [==============================] - 0s 45us/sample - loss: 0.4112 - acc: 0.8188\n",
      "Epoch 58/100\n",
      "800/800 [==============================] - 0s 45us/sample - loss: 0.4020 - acc: 0.8250\n",
      "Epoch 59/100\n",
      "800/800 [==============================] - 0s 44us/sample - loss: 0.4074 - acc: 0.8375\n",
      "Epoch 60/100\n",
      "800/800 [==============================] - 0s 48us/sample - loss: 0.3997 - acc: 0.8363\n",
      "Epoch 61/100\n",
      "800/800 [==============================] - 0s 45us/sample - loss: 0.3992 - acc: 0.8263\n",
      "Epoch 62/100\n",
      "800/800 [==============================] - 0s 44us/sample - loss: 0.4010 - acc: 0.8288\n",
      "Epoch 63/100\n",
      "800/800 [==============================] - 0s 46us/sample - loss: 0.3990 - acc: 0.8350\n",
      "Epoch 64/100\n",
      "800/800 [==============================] - 0s 45us/sample - loss: 0.4038 - acc: 0.8388\n",
      "Epoch 65/100\n",
      "800/800 [==============================] - 0s 44us/sample - loss: 0.3979 - acc: 0.8363\n",
      "Epoch 66/100\n",
      "800/800 [==============================] - 0s 46us/sample - loss: 0.3998 - acc: 0.8350\n",
      "Epoch 67/100\n",
      "800/800 [==============================] - 0s 46us/sample - loss: 0.4025 - acc: 0.8225\n",
      "Epoch 68/100\n",
      "800/800 [==============================] - 0s 46us/sample - loss: 0.3979 - acc: 0.8300\n",
      "Epoch 69/100\n",
      "800/800 [==============================] - 0s 47us/sample - loss: 0.3998 - acc: 0.8350\n",
      "Epoch 70/100\n",
      "800/800 [==============================] - 0s 45us/sample - loss: 0.4002 - acc: 0.8275\n",
      "Epoch 71/100\n",
      "800/800 [==============================] - 0s 46us/sample - loss: 0.3959 - acc: 0.8363\n",
      "Epoch 72/100\n",
      "800/800 [==============================] - 0s 48us/sample - loss: 0.4024 - acc: 0.8263\n",
      "Epoch 73/100\n",
      "800/800 [==============================] - 0s 47us/sample - loss: 0.3983 - acc: 0.8388\n",
      "Epoch 74/100\n",
      "800/800 [==============================] - 0s 47us/sample - loss: 0.3996 - acc: 0.8325\n",
      "Epoch 75/100\n",
      "800/800 [==============================] - 0s 47us/sample - loss: 0.3940 - acc: 0.8275\n",
      "Epoch 76/100\n",
      "800/800 [==============================] - 0s 48us/sample - loss: 0.3955 - acc: 0.8350\n",
      "Epoch 77/100\n",
      "800/800 [==============================] - 0s 48us/sample - loss: 0.3958 - acc: 0.8388\n",
      "Epoch 78/100\n",
      "800/800 [==============================] - 0s 48us/sample - loss: 0.3945 - acc: 0.8375\n",
      "Epoch 79/100\n",
      "800/800 [==============================] - 0s 47us/sample - loss: 0.3949 - acc: 0.8413\n",
      "Epoch 80/100\n",
      "800/800 [==============================] - 0s 45us/sample - loss: 0.3954 - acc: 0.8400\n",
      "Epoch 81/100\n",
      "800/800 [==============================] - 0s 45us/sample - loss: 0.3920 - acc: 0.8275\n",
      "Epoch 82/100\n",
      "800/800 [==============================] - 0s 45us/sample - loss: 0.3897 - acc: 0.8450\n",
      "Epoch 83/100\n"
     ]
    },
    {
     "name": "stdout",
     "output_type": "stream",
     "text": [
      "800/800 [==============================] - 0s 46us/sample - loss: 0.3930 - acc: 0.8350\n",
      "Epoch 84/100\n",
      "800/800 [==============================] - 0s 41us/sample - loss: 0.3917 - acc: 0.8338\n",
      "Epoch 85/100\n",
      "800/800 [==============================] - 0s 47us/sample - loss: 0.3929 - acc: 0.8325\n",
      "Epoch 86/100\n",
      "800/800 [==============================] - 0s 50us/sample - loss: 0.3922 - acc: 0.8425\n",
      "Epoch 87/100\n",
      "800/800 [==============================] - 0s 48us/sample - loss: 0.3899 - acc: 0.8450\n",
      "Epoch 88/100\n",
      "800/800 [==============================] - 0s 49us/sample - loss: 0.3931 - acc: 0.8400\n",
      "Epoch 89/100\n",
      "800/800 [==============================] - 0s 48us/sample - loss: 0.3907 - acc: 0.8438\n",
      "Epoch 90/100\n",
      "800/800 [==============================] - 0s 50us/sample - loss: 0.3922 - acc: 0.8313\n",
      "Epoch 91/100\n",
      "800/800 [==============================] - 0s 50us/sample - loss: 0.3909 - acc: 0.8375\n",
      "Epoch 92/100\n",
      "800/800 [==============================] - 0s 50us/sample - loss: 0.3874 - acc: 0.8400\n",
      "Epoch 93/100\n",
      "800/800 [==============================] - 0s 49us/sample - loss: 0.3876 - acc: 0.8388\n",
      "Epoch 94/100\n",
      "800/800 [==============================] - 0s 53us/sample - loss: 0.3950 - acc: 0.8338\n",
      "Epoch 95/100\n",
      "800/800 [==============================] - 0s 52us/sample - loss: 0.3901 - acc: 0.8388\n",
      "Epoch 96/100\n",
      "800/800 [==============================] - 0s 47us/sample - loss: 0.3895 - acc: 0.8338\n",
      "Epoch 97/100\n",
      "800/800 [==============================] - 0s 50us/sample - loss: 0.3873 - acc: 0.8400\n",
      "Epoch 98/100\n",
      "800/800 [==============================] - 0s 50us/sample - loss: 0.3967 - acc: 0.8363\n",
      "Epoch 99/100\n",
      "800/800 [==============================] - 0s 48us/sample - loss: 0.3871 - acc: 0.8375\n",
      "Epoch 100/100\n",
      "800/800 [==============================] - 0s 45us/sample - loss: 0.3860 - acc: 0.8375\n"
     ]
    },
    {
     "data": {
      "text/plain": [
       "<tensorflow.python.keras.callbacks.History at 0x1a373269b0>"
      ]
     },
     "execution_count": 43,
     "metadata": {},
     "output_type": "execute_result"
    }
   ],
   "source": [
    "model.fit(np.array(X_train),np.array(y_train),epochs=100)"
   ]
  },
  {
   "cell_type": "code",
   "execution_count": 44,
   "metadata": {},
   "outputs": [
    {
     "name": "stdout",
     "output_type": "stream",
     "text": [
      "89/89 [==============================] - 0s 974us/sample - loss: 0.4290 - acc: 0.8202\n",
      "0.4289784960532456\n",
      "0.8202247\n"
     ]
    }
   ],
   "source": [
    "val_loss, val_acc = model.evaluate(X_test, y_test)\n",
    "print(val_loss)\n",
    "print(val_acc)"
   ]
  },
  {
   "cell_type": "code",
   "execution_count": 45,
   "metadata": {},
   "outputs": [],
   "source": [
    "model.save('titanic_dense.model')"
   ]
  },
  {
   "cell_type": "code",
   "execution_count": 46,
   "metadata": {},
   "outputs": [
    {
     "name": "stdout",
     "output_type": "stream",
     "text": [
      "WARNING:tensorflow:Sequential models without an `input_shape` passed to the first layer cannot reload their optimizer state. As a result, your model isstarting with a freshly initialized optimizer.\n"
     ]
    }
   ],
   "source": [
    "new_model = tf.keras.models.load_model('titanic_dense.model')"
   ]
  },
  {
   "cell_type": "code",
   "execution_count": 47,
   "metadata": {},
   "outputs": [],
   "source": [
    "pred = new_model.predict(np.array(X_test[0:10]))"
   ]
  },
  {
   "cell_type": "code",
   "execution_count": 58,
   "metadata": {},
   "outputs": [
    {
     "data": {
      "text/plain": [
       "282"
      ]
     },
     "execution_count": 58,
     "metadata": {},
     "output_type": "execute_result"
    }
   ],
   "source": [
    "X_test.index[0]"
   ]
  },
  {
   "cell_type": "code",
   "execution_count": 60,
   "metadata": {},
   "outputs": [
    {
     "name": "stdout",
     "output_type": "stream",
     "text": [
      "282 0\n",
      "436 1\n",
      "40 0\n",
      "419 0\n",
      "586 1\n",
      "805 0\n",
      "344 0\n",
      "837 0\n",
      "582 1\n",
      "538 1\n"
     ]
    }
   ],
   "source": [
    "for i in range(len(pred)):\n",
    "    print(X_test.index[i],np.argmax(pred[i]))"
   ]
  },
  {
   "cell_type": "code",
   "execution_count": 25,
   "metadata": {},
   "outputs": [
    {
     "data": {
      "text/plain": [
       "PassengerId\n",
       "282    0\n",
       "436    1\n",
       "40     1\n",
       "419    0\n",
       "586    1\n",
       "805    1\n",
       "344    0\n",
       "837    0\n",
       "582    1\n",
       "538    1\n",
       "Name: Survived, dtype: int64"
      ]
     },
     "execution_count": 25,
     "metadata": {},
     "output_type": "execute_result"
    }
   ],
   "source": [
    "y_test[0:10]"
   ]
  },
  {
   "cell_type": "code",
   "execution_count": null,
   "metadata": {},
   "outputs": [],
   "source": []
  }
 ],
 "metadata": {
  "kernelspec": {
   "display_name": "Python 3",
   "language": "python",
   "name": "python3"
  },
  "language_info": {
   "codemirror_mode": {
    "name": "ipython",
    "version": 3
   },
   "file_extension": ".py",
   "mimetype": "text/x-python",
   "name": "python",
   "nbconvert_exporter": "python",
   "pygments_lexer": "ipython3",
   "version": "3.7.3"
  }
 },
 "nbformat": 4,
 "nbformat_minor": 2
}
